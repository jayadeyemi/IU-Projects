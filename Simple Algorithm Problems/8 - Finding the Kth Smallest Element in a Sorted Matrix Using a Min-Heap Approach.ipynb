{
 "cells": [
  {
   "cell_type": "markdown",
   "id": "a5f3b555",
   "metadata": {},
   "source": [
    "<h1 style=\"text-align:center;\"><b>8 - Finding the Kth Smallest Element in a Sorted Matrix Using a Min-Heap Approach</b><h1>\n",
    "\n",
    "### **Problem description**:\n",
    "        Given an n x n matrix where each of the rows is sorted in ascending order, return the kth smallest element in the matrix. Note that it is the kth smallest element in the sorted order, not the kth distinct element. You must find a solution with a time complexity better than O(n^2).\n",
    "\n",
    "Example:\n",
    "\n",
    "        matrix = [[ 1, 5, 9],\n",
    "                  [10,11,13],\n",
    "                  [12,13,15]]\n",
    "        k = 8\n",
    "        kthSmallest(matrix, k) = 13\n",
    "        \n",
    "_Explanation:_\n",
    "\n",
    "        The elements in the matrix are [1,5,9,10,11,12,13,13,15], and the 8th smallest number is 13"
   ]
  },
  {
   "cell_type": "markdown",
   "id": "8e596b4f",
   "metadata": {},
   "source": [
    "### **Solution:**"
   ]
  },
  {
   "cell_type": "code",
   "execution_count": null,
   "id": "84d4b6e4",
   "metadata": {},
   "outputs": [],
   "source": [
    "import heapq\n",
    "\n",
    "def kthSmallest(matrix, k):\n",
    "    n = len(matrix)\n",
    "    min_heap = []  # Priority queue to store elements\n",
    "    \n",
    "    # Add the first element of each row to the priority queue\n",
    "    for i in range(n):\n",
    "        heapq.heappush(min_heap, (matrix[i][0], i, 0))\n",
    "    \n",
    "    # Perform k-1 pops to reach the kth smallest element\n",
    "    for _ in range(k - 1):\n",
    "        val, row, col = heapq.heappop(min_heap)\n",
    "        if col < n - 1:\n",
    "            heapq.heappush(min_heap, (matrix[row][col + 1], row, col + 1))\n",
    "    \n",
    "    # Return the kth smallest element\n",
    "    return min_heap[0][0]\n",
    "\n",
    "# Test cases\n",
    "print(kthSmallest([[1,5,9],[10,11,13],[12,13,15]], 8))  # Output: 13\n",
    "print(kthSmallest([[-5]], 1)) "
   ]
  }
 ],
 "metadata": {
  "language_info": {
   "name": "python"
  }
 },
 "nbformat": 4,
 "nbformat_minor": 5
}

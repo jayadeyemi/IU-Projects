{
 "cells": [
  {
   "cell_type": "markdown",
   "id": "19220925",
   "metadata": {},
   "source": [
    "<h1 style=\"text-align:center;\"><b>14 - Implementing the Bulls and Cows Game Using Hash Tables for Efficient Count and Comparison</b></h1>\n",
    "\n",
    "### **Problem description**:\n",
    "\n",
    "        Imagine you’re playing a game where you pick a ’secret’ number, and your friend tries to ’guess’ it. When they guess, you give them clues. The first clue, called ”bulls,” is how many digits they got right in the right spot. The second clue, called ”cows,” is how many digits they got right but in the wrong spot. Your job is to take their ’secret’ and ’guess’ and give them the clue. The clue should be formatted as ”xAyB”, where x is the number of bulls and y is the number of cows.\n",
    "        Constraints\n",
    "            • ’secret’ and ’guess’ consist of digits only.\n",
    "            • Solve the question in O(n) time complexity using Hashing.\n",
    "                \n",
    "Example 1:\n",
    "    \n",
    "        secret = \"22105\"\n",
    "        guess = \"12324\"\n",
    "        xAyB(secret, guess) = \"1A2B\"\n",
    "\n",
    "_Explanation:_\n",
    "\n",
    "        At index 1, the digits are the same, so the number of bulls is 1. One occurrence of 2 and one occurrence of 1 are in the wrong spots, so the number of cows is 2."
   ]
  },
  {
   "cell_type": "code",
   "execution_count": null,
   "id": "d9c25bd8",
   "metadata": {},
   "outputs": [],
   "source": [
    "def xAyB(secret: str, guess: str) -> str:\n",
    "    bulls = 0\n",
    "    cows = 0\n",
    "    secret_counts = {}\n",
    "    guess_counts = {}\n",
    "    \n",
    "    # First pass: find bulls and record counts for unmatched characters\n",
    "    for idx in range(len(secret)):\n",
    "        if secret[idx] == guess[idx]:\n",
    "            bulls += 1\n",
    "        else:\n",
    "            # Update counts in secret_counts\n",
    "            if secret[idx] in secret_counts:\n",
    "                secret_counts[secret[idx]] += 1\n",
    "            else:\n",
    "                secret_counts[secret[idx]] = 1\n",
    "            \n",
    "            # Update counts in guess_counts\n",
    "            if guess[idx] in guess_counts:\n",
    "                guess_counts[guess[idx]] += 1\n",
    "            else:\n",
    "                guess_counts[guess[idx]] = 1\n",
    "    \n",
    "    # Second pass: calculate cows by comparing counts in both hash tables\n",
    "    for digit in secret_counts:\n",
    "        if digit in guess_counts:\n",
    "            cows += min(secret_counts[digit], guess_counts[digit])\n",
    "    \n",
    "    return f\"{bulls}A{cows}B\"\n"
   ]
  },
  {
   "cell_type": "code",
   "execution_count": null,
   "id": "441ace45",
   "metadata": {},
   "outputs": [],
   "source": []
  }
 ],
 "metadata": {
  "language_info": {
   "name": "python"
  }
 },
 "nbformat": 4,
 "nbformat_minor": 5
}

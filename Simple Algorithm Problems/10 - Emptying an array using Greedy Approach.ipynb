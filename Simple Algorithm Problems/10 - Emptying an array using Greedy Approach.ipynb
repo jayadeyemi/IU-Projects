{
 "cells": [
  {
   "cell_type": "markdown",
   "id": "a6416bea",
   "metadata": {},
   "source": [
    "<h1 style=\"text-align:center;\"><b>10 - Emptying an array using Greedy Approach</b></h1>\n",
    "\n",
    "### **Problem description**:\n",
    "        There exists 0-indexed arrays consisting of positive integers. There are two types of operations that you can apply on the array any number of times:\n",
    "        1. Choose two elements with equal values and delete them from the array.\n",
    "        2. Choose three elements with equal values and delete them from the array.\n",
    "\n",
    "        Using the function \"minOperations\", return the minimum number of operations required to make the array empty, or return -1 if it is not possible.\n",
    "\n",
    "Example:\n",
    "\n",
    "        nums = [2,3,3,2,2,4,2,3,4]\n",
    "        minOperations(nums) = 4\n",
    "\n",
    "_Explanation:_\n",
    "        \n",
    "        We can apply the following operations to make the array empty:\n",
    "        - Apply the first operation on the elements at indexes 0 and 3. The resulting array is nums = [3,3,2,4,2,3,4].\n",
    "        - Apply the first operation on the elements at indexes 2 and 4. The resulting array is nums = [3,3,4,3,4].\n",
    "        - Apply the second operation on the elements at indexes 0, 1, and 3. The resulting array is nums = [4,4].\n",
    "        - Apply the first operation on the elements at indexes 0 and 1. The resulting array is nums = [].\n",
    "        It can be shown that we cannot make the array empty in less than 4 operations.\n",
    "\n",
    "\n",
    "Example:\n",
    "\n",
    "        nums = [2,1,2,2,3,3]\n",
    "        minOperations(nums) = -1\n",
    "\n",
    "_Explanation:_\n",
    "\n",
    "        It is impossible to empty the array. "
   ]
  },
  {
   "cell_type": "markdown",
   "id": "c6424f4a",
   "metadata": {},
   "source": [
    "### **Solution:**"
   ]
  },
  {
   "cell_type": "code",
   "execution_count": null,
   "id": "67763f2b",
   "metadata": {},
   "outputs": [],
   "source": [
    "def minOperations(nums):\n",
    "    #create a dictionary to store the numbers\n",
    "    num_dict = {}\n",
    "    number_of_operations = 0\n",
    "    #loop through the numbers\n",
    "    for num in nums:\n",
    "        if num in num_dict:\n",
    "            num_dict[num] += 1\n",
    "        else:\n",
    "            num_dict[num] = 1\n",
    "\n",
    "    for key in num_dict:\n",
    "        if num_dict[key] == 1:\n",
    "            return -1\n",
    "        if num_dict[key] % 3 == 0:  # if the number is divisible by 3\n",
    "            number_of_operations += num_dict[key]/3\n",
    "        elif num_dict[key] % 3 == 1 or num_dict[key] % 3 == 2:\n",
    "            number_of_operations += int(num_dict[key]/3) + 1\n",
    "        elif num_dict[key] % 2 == 0:  # if the number is even\n",
    "            number_of_operations += num_dict[key]/2\n",
    "\n",
    "    return number_of_operations\n"
   ]
  }
 ],
 "metadata": {
  "language_info": {
   "name": "python"
  }
 },
 "nbformat": 4,
 "nbformat_minor": 5
}

{
 "cells": [
  {
   "cell_type": "markdown",
   "metadata": {},
   "source": [
    "<h1 style=\"text-align:center;\"><b>7 - Maximum Subsequence Sum Calculation with Dynamic Approach</b></h1>\n",
    "\n",
    "### **Problem description**:\n",
    "        Given an array of size N containing integers. Write a function which calculates the maximum sum of a subsequence where no two elements are adjacent. The function should leverage dynamic programming to efficiently compute the result.\n",
    "\n",
    "Example:\n",
    "\n",
    "        array = [1, 2, 3]\n",
    "        findMaxSum(array) = 5\n",
    "\n",
    "_Explanation:_\n",
    "\n",
    "        All three element present in the array is consecutive, hence we have to consider just two element sum having maximum, which is 2+3 = 5\n",
    "\n",
    "Example:\n",
    "\n",
    "        array = [3000, 2000, 1000, 3, 10]\n",
    "        findMaxSum(array) = 5013\n",
    "\n",
    "_Explanation:_\n",
    "\n",
    "        Explanation: 3000 + 2000 + 3 + 10 = 5013.\n",
    "        Here no three consecutive elements in array."
   ]
  },
  {
   "cell_type": "code",
   "execution_count": 4,
   "metadata": {},
   "outputs": [],
   "source": [
    "import pandas as pd\n",
    "\n",
    "def findMaxSum(array):\n",
    "    if len(array) == 0:\n",
    "        return 0\n",
    "    length = len(array)\n",
    "    if length == 1:\n",
    "        return array[0]\n",
    "    if length == 2:\n",
    "        return max(array)\n",
    "    max_sum_dp = [0] * length\n",
    "    max_sum_dp[0] = array[0]\n",
    "    max_sum_dp[1] = max(array[0], array[1])\n",
    "    dp_table = pd.DataFrame(index=range(length), columns=range(3))\n",
    "    dp_table.iloc[0, 0] = array[0]\n",
    "    dp_table.iloc[1, 0] = array[0]\n",
    "    dp_table.iloc[1, 1] = max(array[0], array[1])\n",
    "    \n",
    "    for i in range(1, length):\n",
    "        max_sum_dp[i] = max_sum_dp[i] = max(max_sum_dp[i-1], \n",
    "                    max_sum_dp[i-2] + array[i] if max_sum_dp[i-2] + array[i] > 0 else 0, \n",
    "                    (array[i] + array[i-1] + (max_sum_dp[i-3] if array[i] + array[i-1] + max_sum_dp[i-3] >= 0 else 0)) if array[i] + array[i-1] > 0 else 0)\n",
    "\n",
    "        dp_table.iloc[i, 1] = max_sum_dp[i-1]\n",
    "        dp_table.iloc[i, 2] = max_sum_dp[i-2] + array[i]\n",
    "    \n",
    "    print(\"Dynamic Programming Table:\")\n",
    "    print(dp_table)\n",
    "    \n",
    "    return max_sum_dp[-1]\n"
   ]
  },
  {
   "cell_type": "code",
   "execution_count": 8,
   "metadata": {},
   "outputs": [
    {
     "name": "stdout",
     "output_type": "stream",
     "text": [
      "Dynamic Programming Table:\n",
      "     0    1    2\n",
      "0    2  NaN  NaN\n",
      "1    2    2    3\n",
      "2  NaN    8    3\n",
      "8\n"
     ]
    }
   ],
   "source": [
    "array = [2,3,1]\n",
    "\n",
    "print(findMaxSum(array))"
   ]
  },
  {
   "cell_type": "code",
   "execution_count": 10,
   "metadata": {},
   "outputs": [
    {
     "name": "stdout",
     "output_type": "stream",
     "text": [
      "Dynamic Programming Table:\n",
      "     0    1    2\n",
      "0    1  NaN  NaN\n",
      "1    1    1    2\n",
      "2  NaN    5    4\n",
      "5\n"
     ]
    }
   ],
   "source": [
    "array = [1, 2, 3]\n",
    "print(findMaxSum(array))"
   ]
  }
 ],
 "metadata": {
  "kernelspec": {
   "display_name": "Python 3",
   "language": "python",
   "name": "python3"
  },
  "language_info": {
   "codemirror_mode": {
    "name": "ipython",
    "version": 3
   },
   "file_extension": ".py",
   "mimetype": "text/x-python",
   "name": "python",
   "nbconvert_exporter": "python",
   "pygments_lexer": "ipython3",
   "version": "3.12.1"
  }
 },
 "nbformat": 4,
 "nbformat_minor": 2
}

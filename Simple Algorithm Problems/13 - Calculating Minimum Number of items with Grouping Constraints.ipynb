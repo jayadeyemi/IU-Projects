{
 "cells": [
  {
   "cell_type": "markdown",
   "id": "b61dced3",
   "metadata": {},
   "source": [
    "<h1 style=\"text-align:center;\"><b>11 - Calculating Minimum Number of items with Grouping Constraints</b></h1>\n",
    "\n",
    "### **Problem description**:\n",
    "\n",
    "    In a whimsical realm, there’s a hidden village inhabited by colorful rabbits. Each rabbit possesses a unique ability, but to unlock it, they must gather in groups of the same color. You’ve surveyed a few rabbits, asking them how many others share their color. With this information, your task is to determine the minimum number of rabbits needed to unlock all their abilities.\n",
    "\n",
    "Example 1:\n",
    "    \n",
    "        answers = [1,1,2]\n",
    "        numRabbits(answers) = 5\n",
    "\n",
    "_Explanation:_\n",
    "\n",
    "        The two rabbits that answered ”1” could both be the same color, say red. The rabbit that answered ”2” can’t be red or the answers would be inconsistent. Say the rabbit that answered ”2” was blue. Then there should be 2 other blue rabbits in the forest that didn’t answer into the array. The smallest possible number of rabbits in the forest is therefore 5: 3 that answered plus 2 that didn’t.\n",
    "\n",
    "Example 2:\n",
    "\n",
    "        answers = [10,10,10]\n",
    "        numRabbits(answers) = 11"
   ]
  },
  {
   "cell_type": "code",
   "execution_count": null,
   "id": "b4507fae",
   "metadata": {},
   "outputs": [],
   "source": [
    "def numRabbits(answers):\n",
    "    # create a set to store the unique answers\n",
    "    set_count = set(answers)\n",
    "    discovered = {}\n",
    "    # iterate through the answers\n",
    "    for i in answers:\n",
    "        # if the answer is in the dictionary\n",
    "        if i in discovered:\n",
    "            # increment the count\n",
    "            discovered[i] += 1\n",
    "        else:\n",
    "            # otherwise add the answer to the dictionary\n",
    "            discovered[i] = 1\n",
    "    return sum((discovered[i] + i) // (i + 1) * (i + 1) for i in discovered)"
   ]
  }
 ],
 "metadata": {
  "language_info": {
   "name": "python"
  }
 },
 "nbformat": 4,
 "nbformat_minor": 5
}

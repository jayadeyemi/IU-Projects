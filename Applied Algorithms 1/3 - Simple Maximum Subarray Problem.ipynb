{
 "cells": [
  {
   "cell_type": "markdown",
   "id": "76cd4019",
   "metadata": {},
   "source": [
    "<h1 style=\"text-align:center;\"><b>3 - Simple Maximum Subarray Problem</b></h1>\n",
    "\n",
    "### **Problem description**:\n",
    "        Complete the given function to determine the **sum** of the maximum element within each contiguous subarray of the given array of integers.\n",
    "\n",
    "Example:\n",
    "\n",
    "        arr = [3,1,2,4]\n",
    "        sumSubarrayMaxs(arr) = 30\n",
    "\n",
    "_Explanation:_\n",
    "\n",
    "        Subarrays = [[3], [1], [2], [4], [3,1], [1,2], [2,4], [3,1,2], [1,2,4], [3,1,2,4]]\n",
    "        Maximums =  [ 3,   1,   2,   4,   3,       2,     4,   3,           4,         4 ]"
   ]
  },
  {
   "cell_type": "markdown",
   "metadata": {},
   "source": [
    "### **Solution:**"
   ]
  },
  {
   "cell_type": "code",
   "execution_count": 1,
   "id": "2f239384",
   "metadata": {},
   "outputs": [
    {
     "name": "stdout",
     "output_type": "stream",
     "text": [
      "30\n"
     ]
    }
   ],
   "source": [
    "def sumSubarrayMaxs(nums: list[int]) -> int:\n",
    "    length = len(nums)\n",
    "    total_maxs = 0\n",
    "    i = 0\n",
    "\n",
    "    # Iterate over all possible starting points of subarrays\n",
    "    while i < length:\n",
    "        current_max = nums[i]\n",
    "        j = i\n",
    "\n",
    "        # Iterate over all possible ending points of subarrays starting at i\n",
    "        while j < length:\n",
    "            current_max = max(current_max, nums[j])\n",
    "            total_maxs += current_max\n",
    "            j += 1\n",
    "\n",
    "        i += 1\n",
    "\n",
    "    return total_maxs\n",
    "\n",
    "# Example usage\n",
    "print(sumSubarrayMaxs([3, 1, 2, 4])) # Output: 30\n"
   ]
  }
 ],
 "metadata": {
  "kernelspec": {
   "display_name": "Python 3",
   "language": "python",
   "name": "python3"
  },
  "language_info": {
   "codemirror_mode": {
    "name": "ipython",
    "version": 3
   },
   "file_extension": ".py",
   "mimetype": "text/x-python",
   "name": "python",
   "nbconvert_exporter": "python",
   "pygments_lexer": "ipython3",
   "version": "3.12.1"
  }
 },
 "nbformat": 4,
 "nbformat_minor": 5
}

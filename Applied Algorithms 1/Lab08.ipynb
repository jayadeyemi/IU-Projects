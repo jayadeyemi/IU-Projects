{
 "cells": [
  {
   "cell_type": "code",
   "execution_count": null,
   "id": "84d4b6e4",
   "metadata": {},
   "outputs": [],
   "source": [
    "import heapq\n",
    "\n",
    "def kthSmallest(matrix, k):\n",
    "    n = len(matrix)\n",
    "    min_heap = []  # Priority queue to store elements\n",
    "    \n",
    "    # Add the first element of each row to the priority queue\n",
    "    for i in range(n):\n",
    "        heapq.heappush(min_heap, (matrix[i][0], i, 0))\n",
    "    \n",
    "    # Perform k-1 pops to reach the kth smallest element\n",
    "    for _ in range(k - 1):\n",
    "        val, row, col = heapq.heappop(min_heap)\n",
    "        if col < n - 1:\n",
    "            heapq.heappush(min_heap, (matrix[row][col + 1], row, col + 1))\n",
    "    \n",
    "    # Return the kth smallest element\n",
    "    return min_heap[0][0]\n",
    "\n",
    "# Test cases\n",
    "print(kthSmallest([[1,5,9],[10,11,13],[12,13,15]], 8))  # Output: 13\n",
    "print(kthSmallest([[-5]], 1)) "
   ]
  }
 ],
 "metadata": {},
 "nbformat": 4,
 "nbformat_minor": 5
}

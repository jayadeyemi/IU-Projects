{
 "cells": [
  {
   "cell_type": "markdown",
   "id": "34b466f4",
   "metadata": {},
   "source": [
    "<h1 style=\"text-align:center;\"><b>4 - Tree Building, Traversal and Splitting</b></h1>"
   ]
  },
  {
   "cell_type": "markdown",
   "id": "43f78cdf",
   "metadata": {},
   "source": [
    "### **Problem description**:\n",
    "        There exists a binary tree maze called the ”maze”. Create an function, \"max_split_prod\" that strategically removes a single edge, splitting the tree into two subtrees. The catch is, the product of the sums of these subtrees needs to be maximized, and the result must be returned modulo (10^9) + 7.\n",
    "        \n",
    "        class TreeNode:\n",
    "        def __init__(self, val=0, left=None, right=None):\n",
    "                self.val = val\n",
    "                self.left = left\n",
    "                self.right = right\n",
    "\n",
    "Example 1:\n",
    "\n",
    "        root = [1, 2, 3, 4, 5, 6]\n",
    "        max_split_prod(root) = 110\n",
    "        \n",
    "<div style=\"text-align: center;\">\n",
    "<img src=\"Images/4 - Tree Building, Traversal and Splitting 001.jpg\" alt=\"Illustration of Example 1\" />\n",
    "</div>\n",
    "\n",
    "_Explanation:_\n",
    "\n",
    "        Remove the red edge and get 2 binary trees with sum 11 and 10.\n",
    "        Their product is 110 (11*10)\n",
    "        \n",
    "Example 2:\n",
    "\n",
    "        root = [1, null, 2, null, null, 3, 4, null, null, null, null, null, null, 5, 6]\n",
    "        max_split_prod(root) = 90\n",
    "        \n",
    "<div style=\"text-align: center;\">\n",
    "<img src=\"Images/4 - Tree Building, Traversal and Splitting 002.jpg\" alt=\"Illustration of Example 2\" />\n",
    "</div>\n",
    "\n",
    "_Explanation:_\n",
    "\n",
    "        Remove the red edge and get 2 binary trees with sum 15 and 6.\n",
    "        Their product is 90 (6*15)"
   ]
  },
  {
   "cell_type": "markdown",
   "id": "6ed2cbea",
   "metadata": {},
   "source": [
    "### **Solution:**"
   ]
  },
  {
   "cell_type": "code",
   "execution_count": 5,
   "id": "a23f4f63",
   "metadata": {},
   "outputs": [
    {
     "name": "stdout",
     "output_type": "stream",
     "text": [
      "Node: 4, Left Sum: 0, Right Sum: 0, Current Left Product: 0, Current Right Product: 0\n",
      "Node: 5, Left Sum: 0, Right Sum: 0, Current Left Product: 0, Current Right Product: 0\n",
      "Node: 2, Left Sum: 4, Right Sum: 5, Current Left Product: 68, Current Right Product: 80\n",
      "Node: 6, Left Sum: 0, Right Sum: 0, Current Left Product: 0, Current Right Product: 0\n",
      "Node: 3, Left Sum: 6, Right Sum: 0, Current Left Product: 90, Current Right Product: 0\n",
      "Node: 1, Left Sum: 11, Right Sum: 9, Current Left Product: 110, Current Right Product: 108\n",
      "110 \n",
      "\n",
      "Node: 3, Left Sum: 0, Right Sum: 0, Current Left Product: 0, Current Right Product: 0\n",
      "Node: 5, Left Sum: 0, Right Sum: 0, Current Left Product: 0, Current Right Product: 0\n",
      "Node: 6, Left Sum: 0, Right Sum: 0, Current Left Product: 0, Current Right Product: 0\n",
      "Node: 4, Left Sum: 5, Right Sum: 6, Current Left Product: 80, Current Right Product: 90\n",
      "Node: 2, Left Sum: 3, Right Sum: 15, Current Left Product: 54, Current Right Product: 90\n",
      "Node: 1, Left Sum: 0, Right Sum: 20, Current Left Product: 0, Current Right Product: 20\n",
      "90\n"
     ]
    }
   ],
   "source": [
    "class TreeNode:\n",
    "    def __init__(self, val=0, left=None, right=None):\n",
    "        self.val = val\n",
    "        self.left = left\n",
    "        self.right = right\n",
    "\n",
    "\n",
    "\n",
    "def max_split_prod(lst):\n",
    "    def build_tree_from_list(lst, index=0):\n",
    "        if index >= len(lst) or lst[index] is None:\n",
    "            return None\n",
    "        node = TreeNode(lst[index])\n",
    "        node.left = build_tree_from_list(lst, 2*index+1)\n",
    "        node.right = build_tree_from_list(lst, 2*index+2)\n",
    "        return node\n",
    "\n",
    "    node = build_tree_from_list(lst)\n",
    "\n",
    "    def subtree_sum(node):\n",
    "        if not node:\n",
    "            return 0\n",
    "        return node.val + subtree_sum(node.left) + subtree_sum(node.right)\n",
    "\n",
    "    total = node.val + subtree_sum(node.left) + subtree_sum(node.right)\n",
    "\n",
    "    def find_max_product(node):\n",
    "        if not node:\n",
    "            return 0\n",
    "\n",
    "        left_sum = subtree_sum(node.left)\n",
    "        right_sum = subtree_sum(node.right)\n",
    "        current_left_product = left_sum * (total - left_sum)\n",
    "        current_right_product = right_sum * (total - right_sum)\n",
    "        left_product = find_max_product(node.left)\n",
    "        right_product = find_max_product(node.right)\n",
    "\n",
    "        print(f\"Node: {node.val}, Left Sum: {left_sum}, Right Sum: {right_sum}, Current Left Product: {current_left_product}, Current Right Product: {current_right_product}\")\n",
    "\n",
    "        return max(current_right_product, current_left_product, left_product, right_product)\n",
    "\n",
    "    return find_max_product(node) %1000000007\n",
    "\n",
    "tree_values = [1, 2, 3, 4, 5, 6]\n",
    "result = max_split_prod(tree_values)\n",
    "print(result,\"\\n\")\n",
    "\n",
    "tree_values = [1, None, 2, None, None, 3, 4, None, None, None, None, None, None, 5, 6]\n",
    "result = max_split_prod(tree_values)\n",
    "print(result)\n"
   ]
  },
  {
   "cell_type": "code",
   "execution_count": 25,
   "id": "a78bd0cf",
   "metadata": {},
   "outputs": [
    {
     "name": "stdout",
     "output_type": "stream",
     "text": [
      "1\n",
      "2\n",
      "4\n",
      "3\n"
     ]
    }
   ],
   "source": [
    "class TreeNode:\n",
    "    def __init__(self, x):\n",
    "        self.val = x\n",
    "        self.left = None\n",
    "        self.right = None\n",
    "\n",
    "def build_tree_from_list(lst, index=0):\n",
    "    if index >= len(lst) or lst[index] is None:\n",
    "        return None\n",
    "    \n",
    "    node = TreeNode(lst[index])\n",
    "    node.left = build_tree_from_list(lst, 2*index+1)\n",
    "    node.right = build_tree_from_list(lst, 2*index+2)\n",
    "    return node\n",
    "\n",
    "def print_tree(node):\n",
    "    if node:\n",
    "        print(node.val)\n",
    "        print_tree(node.left)\n",
    "        print_tree(node.right)\n",
    "\n",
    "# Example usage:\n",
    "lst = [1, 2, 3, None, 4, None, None, 5]\n",
    "root = build_tree_from_list(lst)\n",
    "print_tree(root)\n"
   ]
  }
 ],
 "metadata": {
  "kernelspec": {
   "display_name": "Python 3",
   "language": "python",
   "name": "python3"
  },
  "language_info": {
   "codemirror_mode": {
    "name": "ipython",
    "version": 3
   },
   "file_extension": ".py",
   "mimetype": "text/x-python",
   "name": "python",
   "nbconvert_exporter": "python",
   "pygments_lexer": "ipython3",
   "version": "3.12.1"
  }
 },
 "nbformat": 4,
 "nbformat_minor": 5
}

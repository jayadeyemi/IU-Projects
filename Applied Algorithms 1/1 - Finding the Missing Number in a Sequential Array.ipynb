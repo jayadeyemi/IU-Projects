{
 "cells": [
  {
   "cell_type": "markdown",
   "id": "bc506016",
   "metadata": {},
   "source": [
    "<h1 style=\"text-align:center;\"><b>1 - Finding the Missing Number in a Sequential Array</b></h1>\n"
   ]
  },
  {
   "cell_type": "markdown",
   "id": "db193ff1",
   "metadata": {},
   "source": [
    "### **Problem description**:\n",
    "        Once upon a time, in the land of arrays, there was a randomised group of n distinct numbers in the range [0, n]. However, a number from the range got lost, now we have to find which number is missing from the list. Find the missing number to consolidate the list.\n",
    "\n",
    "Example:\n",
    "\n",
    "        arr = [0, 2, 1]\n",
    "        findMissingNumber(arr) = 3\n",
    "\n",
    "Explanation:\n",
    "\n",
    "        range [0, n] = [0, 1, ..., n-2, n-1]\n",
    "        x is missing\n",
    "        since, 0, 1, & 2 exist in the list, the only possible value is bigger than 2\n",
    "        missing value is 3\n"
   ]
  },
  {
   "cell_type": "markdown",
   "id": "45e25e3c",
   "metadata": {},
   "source": [
    "### **Solution:**"
   ]
  },
  {
   "cell_type": "code",
   "execution_count": 2,
   "id": "fbc37587",
   "metadata": {},
   "outputs": [
    {
     "name": "stdout",
     "output_type": "stream",
     "text": [
      "3\n"
     ]
    }
   ],
   "source": [
    "# Function to find missing value in a list input\n",
    "def findMissingNumber(input_list):\n",
    "    # sort list in ascending order and search for missing number\n",
    "    input_list.sort()\n",
    "    # initialize missing number to max value + 1\n",
    "    missing = input_list[-1] + 1\n",
    "    # iterate through list\n",
    "    for i in range(len(input_list)):\n",
    "        if input_list[i] != i:\n",
    "            missing = i\n",
    "            break\n",
    "    return missing\n",
    "\n",
    "arr = [0, 2, 1]\n",
    "print(findMissingNumber(arr))"
   ]
  }
 ],
 "metadata": {
  "language_info": {
   "name": "python"
  }
 },
 "nbformat": 4,
 "nbformat_minor": 5
}

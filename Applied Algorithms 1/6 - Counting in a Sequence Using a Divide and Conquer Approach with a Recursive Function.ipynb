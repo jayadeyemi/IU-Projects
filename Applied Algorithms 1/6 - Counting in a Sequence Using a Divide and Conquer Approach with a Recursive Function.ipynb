{
 "cells": [
  {
   "cell_type": "markdown",
   "id": "83851489",
   "metadata": {},
   "source": [
    "<h1 style=\"text-align:center;\"><b>6 - Counting in a Sequence Using a Divide and Conquer Approach with a Recursive Function</b></h1>\n",
    "\n",
    "### **Problem description**:\n",
    "        There are scrolls detailing the population of a kingdom's inhabitants, laid out in chronological order. A \"turning point\" occurs when a scroll chronicles a drop in population. Your mission is to tally the number of turning points within the linear sequence of scrolls. There is a catch, a recursive function, \"count_turning_points\" must be used.\n",
    "\n",
    "Example:\n",
    "\n",
    "        scrolls = [30, 20, 40, 25, 35]\n",
    "        count_turning_points(scrolls) = 3\n",
    "_Explanation:_\n",
    "\n",
    "        In this arrangement of scrolls, the following turning points can be observed: (30, 20), (40, 25), (40, 35). The sum of counts is 3."
   ]
  },
  {
   "cell_type": "markdown",
   "id": "2095f29d",
   "metadata": {},
   "source": [
    "### **Solution:**"
   ]
  },
  {
   "cell_type": "code",
   "execution_count": null,
   "id": "af27c428",
   "metadata": {},
   "outputs": [],
   "source": [
    "def count_turning_points(scrolls):\n",
    "    # Base case: if the list is of length 1, there are no turning points\n",
    "    if len(scrolls) <= 1:\n",
    "        return 0\n",
    "\n",
    "    # Divide the list into two halves\n",
    "    mid = len(scrolls) // 2\n",
    "    left = scrolls[:mid]\n",
    "    right = scrolls[mid:]\n",
    "\n",
    "    # Conquer: recursively count the turning points in each half\n",
    "    left_count = count_turning_points(left)\n",
    "    right_count = count_turning_points(right)\n",
    "\n",
    "    # Combine: count the turning points between the two halves\n",
    "    cross_count = 0\n",
    "    i = j = 0\n",
    "    while i < len(left) and j < len(right):\n",
    "        if left[i] > right[j]:\n",
    "            cross_count += len(left) - i\n",
    "            j += 1\n",
    "        else:\n",
    "            i += 1\n",
    "\n",
    "    # The total number of turning points is the sum of the counts from each step\n",
    "    return left_count + right_count + cross_count"
   ]
  }
 ],
 "metadata": {
  "language_info": {
   "name": "python"
  }
 },
 "nbformat": 4,
 "nbformat_minor": 5
}

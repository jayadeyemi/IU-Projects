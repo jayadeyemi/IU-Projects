{
 "cells": [
  {
   "cell_type": "markdown",
   "id": "43f78cdf",
   "metadata": {},
   "source": [
    "### **Problem description**:\n",
    "        There is a dark street represented by a number line ranging from 0 to n - 1. There exists also, lanterns each with a unique lighting range, scattered along the road.  Information about these lanterns is stored in a 2D integer array named lanterns, where lanterns[i] = [positioni, rangei] indicates the position and half the lighting range of a lantern. The brightness of a position(p) is determined by the number of Enchanted Lanterns illuminating that spot. To complicate matters, there is requirement[i] represents the minimum required brightness for the ith position on street. Your task is to create a function that provides the number of positions on the street (between 0 and n - 1) that meet or exceed their respective brightness requirements.\n",
    "\n",
    "\n",
    "\n",
    "Example:\n",
    "\n",
    "        lanterns,  = [[0,1],[2,1],[3,2]]\n",
    "        requirement =        [   0,   2,   1,    4,   1]\n",
    "        radiant_road(lanterns, requirement) = 4\n",
    "\n",
    "_Explanation:_\n",
    "\n",
    "        brighteness =        [   1,   3,   2,    2,   1]\n",
    "        meets requirements = [True,True,True,False,True]\n",
    "        \n",
    "<div style=\"text-align: center;\">\n",
    "<img src=\"Images/Simple Array Problem 2.jpg\" alt=\"Illustration of Example\" />\n",
    "</div>\n"
   ]
  },
  {
   "cell_type": "markdown",
   "id": "6ed2cbea",
   "metadata": {},
   "source": [
    "### **Solution:**"
   ]
  },
  {
   "cell_type": "code",
   "execution_count": null,
   "id": "a23f4f63",
   "metadata": {},
   "outputs": [],
   "source": [
    "class TreeNode:\n",
    "    def __init__(self, val=0, left=None, right=None):\n",
    "        self.val = val\n",
    "        self.left = left\n",
    "        self.right = right\n",
    "\n",
    "def build_tree_from_list(lst, index=0):\n",
    "    if index < len(lst):\n",
    "        if lst[index] is None:\n",
    "            return None\n",
    "        else:\n",
    "            return TreeNode(lst[index], build_tree_from_list(lst, 2 * index + 1), build_tree_from_list(lst, 2 * index + 2))\n",
    "\n",
    "def max_split_prod(node):\n",
    "    def subtree_sum(node):\n",
    "        if not node:\n",
    "            return 0\n",
    "        return node.val + subtree_sum(node.left) + subtree_sum(node.right)\n",
    "\n",
    "    total = node.val + subtree_sum(node.left) + subtree_sum(node.right)\n",
    "\n",
    "    def find_max_product(node):\n",
    "        if not node:\n",
    "            return 0\n",
    "\n",
    "        left_sum = subtree_sum(node.left)\n",
    "        right_sum = subtree_sum(node.right)\n",
    "        current_left_product = left_sum * (total - left_sum)\n",
    "        current_right_product = right_sum * (total - right_sum)\n",
    "        left_product = find_max_product(node.left)\n",
    "        right_product = find_max_product(node.right)\n",
    "\n",
    "        print(f\"Node: {node.val}, Left Sum: {left_sum}, Right Sum: {right_sum}, Current Left Product: {current_left_product}, Current Right Product: {current_right_product}\")\n",
    "\n",
    "        return max(current_right_product, current_left_product, left_product, right_product)\n",
    "\n",
    "    return find_max_product(node) %1000000007\n",
    "\n",
    "tree_values = [1, 2, 3, 4, 5, 6]\n",
    "root = build_tree_from_list(tree_values)\n",
    "result = max_split_prod(root)\n",
    "print(result)\n"
   ]
  }
 ],
 "metadata": {
  "language_info": {
   "name": "python"
  }
 },
 "nbformat": 4,
 "nbformat_minor": 5
}

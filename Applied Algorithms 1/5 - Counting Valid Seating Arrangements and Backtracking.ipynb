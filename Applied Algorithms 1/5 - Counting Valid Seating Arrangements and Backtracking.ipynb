{
 "cells": [
  {
   "cell_type": "markdown",
   "metadata": {},
   "source": [
    "<h1 style=\"text-align:center;\"><b>5 - Counting Valid Seating Arrangements and Backtracking</b></h1>\n",
    "\n",
    "### **Problem description**:\n",
    "\n",
    "        In the village of Numberville, a festival was planned with a twist: seating had to be arranged so that each person’s number or table number could divide the other. Enter Lily, a young mathematician who solved the puzzle with ease. Thanks to her clever thinking, the festival succeeded, and Lily became a hero in the village. What could be the approach Lily followed to count the number of possible arrangements?\n",
    "\n",
    "Example 1:\n",
    "\n",
    "        n = 2\n",
    "        countValidSeatingArrangements(n) = 2\n",
    "\n",
    "_Explanation:_\n",
    "\n",
    "        The first possible arrangement is [1,2]:\n",
    "        table[1] = 1, tablenum = 1 is divisible by personnum = 1\n",
    "        table[2] = 2, tablenum = 2 is divisible by personnum = 2\n",
    "        The second possible arrangement is [2,1]:\n",
    "        table[1] = 2, tablenum = 1 is divisible by personnum = 2\n",
    "        table[2] = 1, tablenum = 2 is divisible by personnum = 1\n",
    "\n",
    "Example 2:\n",
    "\n",
    "        n = 4\n",
    "        countValidSeatingArrangements(n) = 8"
   ]
  },
  {
   "cell_type": "code",
   "execution_count": null,
   "metadata": {},
   "outputs": [],
   "source": [
    "def countValidSeatingArrangements(n):\n",
    "    def canPlace(person, table):\n",
    "        return person % table == 0 or table % person == 0\n",
    "\n",
    "    def backtrack(index, used):\n",
    "        if index > n:\n",
    "            return 1\n",
    "        count = 0\n",
    "        for person in range(1, n + 1):\n",
    "            if not used[person] and canPlace(person, index):\n",
    "                used[person] = True\n",
    "                count += backtrack(index + 1, used)\n",
    "                used[person] = False\n",
    "        return count\n",
    "\n",
    "    used = [False] * (n + 1)\n",
    "    return backtrack(1, used)"
   ]
  }
 ],
 "metadata": {
  "language_info": {
   "name": "python"
  }
 },
 "nbformat": 4,
 "nbformat_minor": 2
}

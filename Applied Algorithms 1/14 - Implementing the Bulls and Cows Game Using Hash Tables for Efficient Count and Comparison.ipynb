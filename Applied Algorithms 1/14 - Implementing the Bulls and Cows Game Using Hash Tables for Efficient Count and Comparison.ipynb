{
 "cells": [
  {
   "cell_type": "code",
   "execution_count": null,
   "id": "d9c25bd8",
   "metadata": {},
   "outputs": [],
   "source": [
    "def xAyB(secret: str, guess: str) -> str:\n",
    "    bulls = 0\n",
    "    cows = 0\n",
    "    secret_counts = [0] * 10\n",
    "    guess_counts = [0] * 10\n",
    "    \n",
    "    # First pass: find bulls and reduce counts\n",
    "    for idx in range(len(secret)):\n",
    "        if secret[idx] == guess[idx]:\n",
    "            bulls += 1\n",
    "        else:\n",
    "            secret_counts[int(secret[idx])] += 1\n",
    "            guess_counts[int(guess[idx])] += 1\n",
    "    \n",
    "    # Second pass: calculate cows\n",
    "    for i in range(10):\n",
    "        cows += min(secret_counts[i], guess_counts[i])\n",
    "    \n",
    "    return f\"{bulls}A{cows}B\"\n",
    "\n",
    "# Test the function\n",
    "secret = \"22105\"\n",
    "guess = \"12324\"\n",
    "output = xAyB(secret, guess)\n",
    "print(output)  # Should print \"1A2B\"\n"
   ]
  }
 ],
 "metadata": {},
 "nbformat": 4,
 "nbformat_minor": 5
}

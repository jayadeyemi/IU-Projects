{
 "cells": [
  {
   "cell_type": "code",
   "execution_count": null,
   "id": "af27c428",
   "metadata": {},
   "outputs": [],
   "source": [
    "\n",
    "def count_turning_points(scrolls):\n",
    "    # Base case: if the list is of length 1, there are no turning points\n",
    "    if len(scrolls) <= 1:\n",
    "        return 0\n",
    "\n",
    "    # Divide the list into two halves\n",
    "    mid = len(scrolls) // 2\n",
    "    left = scrolls[:mid]\n",
    "    right = scrolls[mid:]\n",
    "\n",
    "    # Conquer: recursively count the turning points in each half\n",
    "    left_count = count_turning_points(left)\n",
    "    right_count = count_turning_points(right)\n",
    "\n",
    "    # Combine: count the turning points between the two halves\n",
    "    cross_count = 0\n",
    "    i = j = 0\n",
    "    while i < len(left) and j < len(right):\n",
    "        if left[i] > right[j]:\n",
    "            cross_count += len(left) - i\n",
    "            j += 1\n",
    "        else:\n",
    "            i += 1\n",
    "\n",
    "    # The total number of turning points is the sum of the counts from each step\n",
    "    return left_count + right_count + cross_count\n"
   ]
  }
 ],
 "metadata": {},
 "nbformat": 4,
 "nbformat_minor": 5
}

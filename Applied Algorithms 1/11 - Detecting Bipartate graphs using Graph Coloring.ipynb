{
 "cells": [
  {
   "cell_type": "markdown",
   "id": "15f99aba",
   "metadata": {},
   "source": [
    "<h1 style=\"text-align:center;\"><b>11 - Detecting Bipartate graphs using Graph Coloring</b></h1>\n",
    "\n",
    "### **Problem description**:\n",
    "        There is an undirected graph with n nodes, where each node is numbered between 0 and n − 1. You are given a 2D array graph, where graph[u] is an array of nodes v (for each v in graph[u], there is an undirected edge between node u and node v). The graph has the following properties:\n",
    "        • There are no self-edges (graph[u] does not contain u).\n",
    "        • There are no parallel edges (graph[u] does not contain duplicate values).\n",
    "        • If v is in graph[u], then u is in graph[v] (the graph is undirected).\n",
    "        The graph may not be connected, meaning there may be two nodes u and v such that there is no path between them.\n",
    "        A graph is bipartite if the nodes can be partitioned into two independent sets A and B such that every edge in the graph connects a node in set A and a node in set B.\n",
    "        Return true if and only if it is bipartite.\n",
    "\n",
    "Example:\n",
    "\n",
    "        graph = [[1,2,3],[0,2],[0,1,3],[0,2]]\n",
    "        isBipartite(graph) = False\n",
    "\n",
    "_Explanation:_\n",
    "        \n",
    "        There is no way to partition the nodes into two independent sets such that every edge connects a node in one and a node in the other.\n",
    "\n",
    "Example:\n",
    "\n",
    "        graph = [[1,3],[0,2],[1,3],[0,2]]\n",
    "        isBipartite(graph) = True\n",
    "\n",
    "_Explanation:_\n",
    "\n",
    "        We can partition the nodes into two sets: (0, 2) and (1, 3)."
   ]
  },
  {
   "cell_type": "markdown",
   "id": "745cc330",
   "metadata": {},
   "source": [
    "\n",
    "### **Solution:**"
   ]
  },
  {
   "cell_type": "code",
   "execution_count": 1,
   "id": "c038fc79",
   "metadata": {},
   "outputs": [],
   "source": [
    "from collections import deque\n",
    "\n",
    "def isBipartite(graph):\n",
    "    if not graph:\n",
    "        return True\n",
    "    \n",
    "    # Create a dictionary to store the color of each node\n",
    "    colors = {}\n",
    "    \n",
    "    # Perform BFS traversal starting from each node\n",
    "    for node in range(len(graph)):\n",
    "        if node not in colors:\n",
    "            queue = deque([(node, 0)])  # Start with color 0\n",
    "            while queue:\n",
    "                current, color = queue.popleft()\n",
    "                if current in colors:\n",
    "                    # If the current node is already colored, check if the color matches\n",
    "                    if colors[current] != color:\n",
    "                        return False\n",
    "                    continue\n",
    "                \n",
    "                # Color the current node with the current color\n",
    "                colors[current] = color\n",
    "                \n",
    "                # Enqueue neighboring nodes with the opposite color\n",
    "                for neighbor in graph[current]:\n",
    "                    queue.append((neighbor, 1 - color))\n",
    "    \n",
    "    return True"
   ]
  }
 ],
 "metadata": {
  "kernelspec": {
   "display_name": "Python 3",
   "language": "python",
   "name": "python3"
  },
  "language_info": {
   "codemirror_mode": {
    "name": "ipython",
    "version": 3
   },
   "file_extension": ".py",
   "mimetype": "text/x-python",
   "name": "python",
   "nbconvert_exporter": "python",
   "pygments_lexer": "ipython3",
   "version": "3.12.1"
  }
 },
 "nbformat": 4,
 "nbformat_minor": 5
}

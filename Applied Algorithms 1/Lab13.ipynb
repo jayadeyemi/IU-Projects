{
 "cells": [
  {
   "cell_type": "code",
   "execution_count": null,
   "id": "b4507fae",
   "metadata": {},
   "outputs": [],
   "source": [
    "def numRabbits(answers):\n",
    "    # create a set to store the unique answers\n",
    "    set_count = set(answers)\n",
    "    discovered = {}\n",
    "    # iterate through the answers\n",
    "    for i in answers:\n",
    "        # if the answer is in the dictionary\n",
    "        if i in discovered:\n",
    "            # increment the count\n",
    "            discovered[i] += 1\n",
    "        else:\n",
    "            # otherwise add the answer to the dictionary\n",
    "            discovered[i] = 1\n",
    "    return sum((discovered[i] + i) // (i + 1) * (i + 1) for i in discovered)\n",
    "\n"
   ]
  }
 ],
 "metadata": {},
 "nbformat": 4,
 "nbformat_minor": 5
}

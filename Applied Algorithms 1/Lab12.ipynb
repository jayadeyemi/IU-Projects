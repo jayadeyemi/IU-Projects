{
 "cells": [
  {
   "cell_type": "code",
   "execution_count": null,
   "id": "fff8c57c",
   "metadata": {},
   "outputs": [],
   "source": [
    "g_nodes = 3\n",
    "g_from = [1, 2, 3]\n",
    "g_to = [2, 3, 1]\n",
    "g_weight = [4, 5, 3]\n",
    "k = 2\n",
    "from collections import defaultdict\n",
    "def getMinMaxLatency(g_nodes, g_from, g_to, g_weight, k):\n",
    "    adjacency_list = defaultdict(list)\n",
    "    # create an adjacency list from the input\n",
    "    for i in range(len(g_from)):\n",
    "        adjacency_list[g_from[i]].append((g_to[i], g_weight[i]))\n",
    "        adjacency_list[g_to[i]].append((g_from[i], g_weight[i]))\n",
    "    print(adjacency_list)\n",
    "    return 0\n",
    "\n",
    "getMinMaxLatency(g_nodes, g_from, g_to, g_weight, k)"
   ]
  }
 ],
 "metadata": {},
 "nbformat": 4,
 "nbformat_minor": 5
}

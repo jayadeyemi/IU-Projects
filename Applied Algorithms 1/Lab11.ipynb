{
 "cells": [
  {
   "cell_type": "code",
   "execution_count": null,
   "id": "c038fc79",
   "metadata": {},
   "outputs": [],
   "source": [
    "from collections import deque\n",
    "\n",
    "def isBipartite(graph):\n",
    "    if not graph:\n",
    "        return True\n",
    "    \n",
    "    # Create a dictionary to store the color of each node\n",
    "    colors = {}\n",
    "    \n",
    "    # Perform BFS traversal starting from each node\n",
    "    for node in range(len(graph)):\n",
    "        if node not in colors:\n",
    "            queue = deque([(node, 0)])  # Start with color 0\n",
    "            while queue:\n",
    "                current, color = queue.popleft()\n",
    "                if current in colors:\n",
    "                    # If the current node is already colored, check if the color matches\n",
    "                    if colors[current] != color:\n",
    "                        return False\n",
    "                    continue\n",
    "                \n",
    "                # Color the current node with the current color\n",
    "                colors[current] = color\n",
    "                \n",
    "                # Enqueue neighboring nodes with the opposite color\n",
    "                for neighbor in graph[current]:\n",
    "                    queue.append((neighbor, 1 - color))\n",
    "    \n",
    "    return True"
   ]
  }
 ],
 "metadata": {},
 "nbformat": 4,
 "nbformat_minor": 5
}

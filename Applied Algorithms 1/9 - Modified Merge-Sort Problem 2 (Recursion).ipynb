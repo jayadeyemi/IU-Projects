{
 "cells": [
  {
   "cell_type": "markdown",
   "id": "58dc88b4",
   "metadata": {},
   "source": [
    "<h1 style=\"text-align:center;\"><b>9 - Modified Merge-Sort Problem 2 (Recursion)</b></h1>\n",
    "\n",
    "### **Problem description**:\n",
    "        Dani, a wealthy farmer, annually provides food for the impoverished during harvest. However, she notices bias among her servers in distributing rice. To rectify this, Dani intervenes, aiming for equitable rice distribution. She devises a method: each operation involves either taking or giving 1 kg of rice to individuals in a line. The goal is to ensure every person receives an equal share. Thus, the function IdYaKnYiK(people) is tasked with determining the minimum moves required to achieve this balance. By redistributing rice in this manner, Dani demonstrates her commitment to fairness and alleviating hunger among the less fortunate, reflecting her ethos as a just and compassionate farmer. \n",
    "_Constraints:_\n",
    "\n",
    "* _Solve the problem in O(N*log(N)) where N is number of people._\n",
    "* _0 ≤ |people| ≤ 200000._\n",
    "\n",
    "Example:\n",
    "\n",
    "        people = [1,3,5]\n",
    "        IdYaKnYiK(people) = 4\n",
    "\n",
    "_Explanation:_\n",
    "        \n",
    "        Take 2kg rice from person at index 2 and give 2 kg of rice to person at index 0. Total given and taken is 4.\n",
    "\n",
    "Example:\n",
    "\n",
    "        people = [1]\n",
    "        IdYaKnYiK(people) = 0\n",
    "\n",
    "_Explanation:_\n",
    "\n",
    "         We only have 1 person and hence it is fair.\n"
   ]
  },
  {
   "cell_type": "markdown",
   "id": "bb75888a",
   "metadata": {},
   "source": [
    "### **Solution:**"
   ]
  },
  {
   "cell_type": "code",
   "execution_count": 1,
   "id": "8d397241",
   "metadata": {},
   "outputs": [
    {
     "name": "stdout",
     "output_type": "stream",
     "text": [
      "Original array: [12, 11, 13, 5, 6, 7]\n",
      "Heapifying with root at index: 2\n",
      "Left child index: 5\n",
      "Right child index: 6\n",
      "No swap needed. Heap property already satisfied.\n",
      "Heapifying with root at index: 1\n",
      "Left child index: 3\n",
      "Right child index: 4\n",
      "No swap needed. Heap property already satisfied.\n",
      "Heapifying with root at index: 0\n",
      "Left child index: 1\n",
      "Right child index: 2\n",
      "Swapping 12 with 13\n",
      "After swapping: [13, 11, 12, 5, 6, 7]\n",
      "Heapifying with root at index: 2\n",
      "Left child index: 5\n",
      "Right child index: 6\n",
      "No swap needed. Heap property already satisfied.\n",
      "Array after heapify: [13, 11, 12, 5, 6, 7]\n"
     ]
    }
   ],
   "source": [
    "def IdYaKnYiK(people:list[int])->int:\n",
    "    # use merge sort to sort the people at O(nlogn)\n",
    "    def mergeSort(people:list[int])->list[int]:\n",
    "        if len(people) <= 1:\n",
    "            return people\n",
    "        mid = len(people) // 2\n",
    "        left = mergeSort(people[:mid])\n",
    "        right = mergeSort(people[mid:])\n",
    "        return merge(left, right)\n",
    "    def merge(left:list[int], right:list[int])->list[int]:\n",
    "        result = []\n",
    "        i = j = 0\n",
    "        while i < len(left) and j < len(right):\n",
    "            if left[i] <= right[j]:\n",
    "                result.append(left[i])\n",
    "                i += 1\n",
    "            else:\n",
    "                result.append(right[j])\n",
    "                j += 1\n",
    "        result += left[i:]\n",
    "        result += right[j:]\n",
    "        return result\n",
    "    people = mergeSort(people)\n",
    "\n",
    "    # minimum cost to balance the people at O(n)\n",
    "    minCost = 0\n",
    "    minlist = []\n",
    "\n",
    "    n = len(people)\n",
    "    for i in range(n // 2):\n",
    "        # since the people are sorted, the minimum cost is the sum of the difference between the first and last element\n",
    "        minCost += (people[n - i - 1] - people[i])\n",
    "\n",
    "\n",
    "    return minCost\n"
   ]
  }
 ],
 "metadata": {
  "kernelspec": {
   "display_name": "Python 3",
   "language": "python",
   "name": "python3"
  },
  "language_info": {
   "codemirror_mode": {
    "name": "ipython",
    "version": 3
   },
   "file_extension": ".py",
   "mimetype": "text/x-python",
   "name": "python",
   "nbconvert_exporter": "python",
   "pygments_lexer": "ipython3",
   "version": "3.12.1"
  }
 },
 "nbformat": 4,
 "nbformat_minor": 5
}

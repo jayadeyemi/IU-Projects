{
 "cells": [
  {
   "cell_type": "markdown",
   "id": "f2651790",
   "metadata": {},
   "source": [
    "<h1 style=\"text-align:center;\"><b>2 - Simple Array Problem 2</b></h1>\n"
   ]
  },
  {
   "cell_type": "markdown",
   "id": "6708bfc2",
   "metadata": {},
   "source": [
    "### **Problem description**:\n",
    "        There is a dark street represented by a number line ranging from 0 to n - 1. There exists also, lanterns each with a unique lighting range, scattered along the road.  Information about these lanterns is stored in a 2D integer array named lanterns, where lanterns[i] = [positioni, rangei] indicates the position and half the lighting range of a lantern. The brightness of a position(p) is determined by the number of Enchanted Lanterns illuminating that spot. To complicate matters, there is requirement[i] represents the minimum required brightness for the ith position on street. Your task is to create a function that provides the number of positions on the street (between 0 and n - 1) that meet or exceed their respective brightness requirements.\n",
    "\n",
    "\n",
    "\n",
    "Example:\n",
    "\n",
    "        lanterns  =          [  [0,1],    [2,1],[3,2]  ]\n",
    "        requirement =        [   0,   2,   1,    4,   1]\n",
    "        radiant_road(lanterns, requirement) = 4\n",
    "\n",
    "<div style=\"text-align: center;\">\n",
    "<img src=\"Images/2 - Simple Array Problem 2.jpg\" alt=\"Illustration of Example\" />\n",
    "</div>\n",
    "\n",
    "_Explanation:_\n",
    "\n",
    "        brighteness =        [   1,   3,   2,    2,   1]\n",
    "        meets requirements = [True,True,True,False,True]\n"
   ]
  },
  {
   "cell_type": "markdown",
   "id": "3335d5ba",
   "metadata": {},
   "source": [
    "### **Solution:**"
   ]
  },
  {
   "cell_type": "code",
   "execution_count": 1,
   "id": "692e0726",
   "metadata": {},
   "outputs": [
    {
     "name": "stdout",
     "output_type": "stream",
     "text": [
      "4\n"
     ]
    }
   ],
   "source": [
    "def radiant_road(lanterns, requirement):\n",
    "    n = len(requirement)\n",
    "    brightness = [0] * n  # Initialize an array to store the brightness of each position\n",
    "    \n",
    "    # Iterate through each lantern and update the brightness of each position affected by the lantern\n",
    "    for position, lantern_range in lanterns:\n",
    "        start = max(0, position - lantern_range)  # create a starting position affected by the lantern\n",
    "        end = min(n, position + lantern_range + 1)  # create an ending position affected by the lantern\n",
    "\n",
    "        # Update the brightness\n",
    "        for i in range(start, end):\n",
    "            brightness[i] += 1  # Increment the brightness of the position by 1\n",
    "    \n",
    "    # Count the number of positions meeting or exceeding their respective requirements\n",
    "    count = sum(1 for i in range(n) if brightness[i] >= requirement[i])\n",
    "    \n",
    "    return count\n",
    "\n",
    "lanterns = [[0,1],[2,1],[3,2]]\n",
    "requirement = [0,2,1,4,1]\n",
    "print(radiant_road(lanterns, requirement))"
   ]
  }
 ],
 "metadata": {
  "kernelspec": {
   "display_name": "Python 3",
   "language": "python",
   "name": "python3"
  },
  "language_info": {
   "codemirror_mode": {
    "name": "ipython",
    "version": 3
   },
   "file_extension": ".py",
   "mimetype": "text/x-python",
   "name": "python",
   "nbconvert_exporter": "python",
   "pygments_lexer": "ipython3",
   "version": "3.12.1"
  }
 },
 "nbformat": 4,
 "nbformat_minor": 5
}
